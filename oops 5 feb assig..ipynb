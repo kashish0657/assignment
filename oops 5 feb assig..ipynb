{
 "cells": [
  {
   "cell_type": "markdown",
   "id": "b96ac03a-7262-4bf4-b538-fea58480065f",
   "metadata": {},
   "source": [
    "OOPs assignment (5th feb)"
   ]
  },
  {
   "cell_type": "code",
   "execution_count": null,
   "id": "fbc6f52d-c473-4e35-8c2b-de8f46168a11",
   "metadata": {},
   "outputs": [],
   "source": [
    "1.ans:- Class:-\n",
    "\n",
    "        A class is an entity that determines how an object will behave and what the object will contain.\n",
    "        In other words, it is a blueprint or a set of instructions to build a specific type of object.\n",
    "        It provide initial values for member variables and member fuction or methods.\n",
    "        \n",
    "        Object:-\n",
    "        \n",
    "        An object is nothing but a self-contained component that consists of methods and properties to\n",
    "        make data useful. It helps you to determines the behavior of the class.\n",
    "        \n",
    "    Example:-\n",
    "                Suppose a bicycle is a class then mountain bicycle,sports bicycle,touring bicycle,etc can be considered\n",
    "                as objects of the class."
   ]
  },
  {
   "cell_type": "code",
   "execution_count": null,
   "id": "94db956a-74f5-455c-8998-3d01339b122b",
   "metadata": {},
   "outputs": [],
   "source": [
    "2.ans:-  Four pillars of oop:\n",
    "    \n",
    "        These principles are called the four pillars of object oriented programming (OOP).\n",
    "        These four pillars are\n",
    "                                a: Iheritance\n",
    "                                b: Polymorphism\n",
    "                                c: Encapsulation\n",
    "                                d: Abstraction\n",
    "                "
   ]
  },
  {
   "cell_type": "code",
   "execution_count": null,
   "id": "e6750ae3-f294-4975-83fc-88e8893a0ee3",
   "metadata": {},
   "outputs": [],
   "source": [
    "3.ans:-  Use of _ _init_ _() function:-\n",
    "\n",
    "            The _ _init_ _ function is called every time an object is created from a class.\n",
    "            The _ _init_ _ method lets the class initialize the object's attribute and serves no other purpose.\n",
    "            It is only used within classes.\n",
    "            \n",
    "    Example: class dog:\n",
    "                def __init__(self,dogbreed,dogeyecolour):\n",
    "                        self.breed=dogbreed\n",
    "                        self.eyecolor=dogeyecolour\n",
    "            "
   ]
  },
  {
   "cell_type": "code",
   "execution_count": null,
   "id": "830605ce-8d01-419d-8212-b7c548d35c2e",
   "metadata": {},
   "outputs": [],
   "source": [
    "4.ans:-  Use of self:-\n",
    "\n",
    "        The self variable is used to represent the instance of the class which is offen used in\n",
    "        object-oriented programming. It works as a reference to the object . Python uses the self parameter\n",
    "        to refer to instance attributes and methods of the class."
   ]
  },
  {
   "cell_type": "code",
   "execution_count": null,
   "id": "3de03dfc-34d1-48c8-aa17-c575083e385c",
   "metadata": {},
   "outputs": [],
   "source": [
    "5.ans:-  Inheritance:\n",
    "    \n",
    "            When a class derives from another class. The child class will inherit all the public and \n",
    "            protected properties and methods from the parent class in addition , it can have its own properties\n",
    "            and methods. An inherited class is defined by using the extends keywords.\n",
    "            \n",
    "    Types of inheritance:-\n",
    "    \n",
    "                            a. Single inheritance\n",
    "                            b. Multiple inheritance\n",
    "                            c. Multilevel inheritance\n",
    "                            d. Hierarchical inheritance\n",
    "                            e. Hybrid inheritance\n",
    "        "
   ]
  }
 ],
 "metadata": {
  "kernelspec": {
   "display_name": "Python 3 (ipykernel)",
   "language": "python",
   "name": "python3"
  },
  "language_info": {
   "codemirror_mode": {
    "name": "ipython",
    "version": 3
   },
   "file_extension": ".py",
   "mimetype": "text/x-python",
   "name": "python",
   "nbconvert_exporter": "python",
   "pygments_lexer": "ipython3",
   "version": "3.10.8"
  }
 },
 "nbformat": 4,
 "nbformat_minor": 5
}
